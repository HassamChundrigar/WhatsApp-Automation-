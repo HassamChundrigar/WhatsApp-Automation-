{
 "cells": [
  {
   "cell_type": "code",
   "execution_count": 1,
   "metadata": {},
   "outputs": [],
   "source": [
    "from selenium import webdriver\n",
    "from selenium.webdriver.common.keys import Keys\n",
    "import time\n",
    "import random\n",
    "import csv\n",
    "import time\n",
    "import tkinter as tk\n",
    "import glob\n",
    "from selenium.webdriver.common.keys import Keys\n",
    "from selenium.webdriver.common.action_chains import ActionChains\n",
    "import os"
   ]
  },
  {
   "cell_type": "code",
   "execution_count": 6,
   "metadata": {},
   "outputs": [],
   "source": [
    "class Scrapper:\n",
    "    option = webdriver.ChromeOptions()\n",
    "    option.add_argument(\"--window-size=1920,1080\")\n",
    "    driver = None        \n",
    "            \n",
    "    def login_whatsapp(self):\n",
    "        try:\n",
    "            self.driver = webdriver.Chrome('./chromedriver',options= self.option)\n",
    "        except:\n",
    "            self.driver = webdriver.Chrome('./chromedriver.exe',options= self.option)\n",
    "            \n",
    "        self.driver.get('https://web.whatsapp.com/')\n",
    "        \n",
    "    def send_message(self):\n",
    "        with open('message.txt', encoding = 'utf-8') as f:\n",
    "            message = f.read()\n",
    "        images = [os.path.abspath(path) for path in glob.glob('./images/*')]\n",
    "        names = []\n",
    "        numbers = []\n",
    "        with open('contacts.csv', encoding='utf-8') as f:\n",
    "            reader = csv.reader(f, delimiter = ',')\n",
    "            for i, row in enumerate(reader):\n",
    "                if i!=0:\n",
    "                    names.append(row[0])\n",
    "                    numbers.append(row[34])\n",
    "        \n",
    "        \n",
    "        for i, name in enumerate(names):\n",
    "            if name == '': name = numbers[i]\n",
    "            #Click On Chart Button\n",
    "            for i in range(5):\n",
    "                #Means Try Maximum 5 times after 1 second weight\n",
    "                try:\n",
    "                    self.driver.find_element_by_xpath('//*[@id=\"side\"]/header/div[2]/div/span/div[2]/div').click()\n",
    "                    break\n",
    "                except:\n",
    "                    if i==4: continue\n",
    "                    time.sleep(1)\n",
    "            \n",
    "            #Add Contact name on search field\n",
    "            for i in range(5):\n",
    "                #Try five times after 1 second\n",
    "                try:\n",
    "                    self.driver.find_element_by_xpath('//*[@id=\"app\"]/div/div/div[2]/div[1]/span/div/span/div/div[1]/div/label/div/div[2]').send_keys(name)\n",
    "                    break\n",
    "                except:\n",
    "                    if i==4: continue\n",
    "                    time.sleep(1)\n",
    "            \n",
    "            try:\n",
    "                #Click on resulted COntacts\n",
    "                time.sleep(1)\n",
    "                self.driver.find_element_by_class_name('_2EXPL').click()\n",
    "            except:\n",
    "                self.driver.find_element_by_xpath('//*[@id=\"app\"]/div/div/div[2]/div[1]/span/div/span/div/header/div/div[1]/button').click()\n",
    "                continue\n",
    "            \n",
    "            #Check if the name is same i.e not subname\n",
    "            for i in range(5):\n",
    "                try:\n",
    "                    title = self.driver.find_element_by_xpath('//*[@id=\"main\"]/header/div[2]/div/div/span').get_attribute('title')\n",
    "                except: time.sleep(1)\n",
    "            if title != name:\n",
    "                continue\n",
    "                    \n",
    "            try:\n",
    "                #Only for Text\n",
    "                if ((len(images) == 0) & (len(message) != 0)):\n",
    "                    #Add message on text field\n",
    "                    for i in range(5):\n",
    "                        try:\n",
    "                            message_box = self.driver.find_element_by_xpath('//*[@id=\"main\"]/footer/div[1]/div[2]/div/div[2]')\n",
    "                            for part in message.split('\\n'):\n",
    "                                message_box.send_keys(part)\n",
    "                                ActionChains(self.driver).key_down(Keys.SHIFT).key_down(Keys.ENTER).key_up(Keys.SHIFT).key_up(Keys.ENTER).perform()\n",
    "                            break\n",
    "                        except:\n",
    "                            if i==4: continue\n",
    "                            time.sleep(1)\n",
    "                        \n",
    "                    #click send Button\n",
    "#                     for i in range(5):\n",
    "#                         try\n",
    "#                             driver.find_element_by_xpath('//*[@id=\"main\"]/footer/div[1]/div[3]').click()\n",
    "#                             break\n",
    "#                         except:\n",
    "#                             if i==4: continue\n",
    "#                             time.sleep(0.5)\n",
    "\n",
    "                #If also images are involved\n",
    "                elif (len(images) != 0):\n",
    "                    #Click on attach file button\n",
    "                    self.driver.find_element_by_xpath('//*[@id=\"main\"]/header/div[3]/div/div[2]').click()\n",
    "                    time.sleep(2)\n",
    "\n",
    "                    #input files path \n",
    "                    for i in range(5):\n",
    "                        try:\n",
    "                            self.driver.find_element_by_xpath(\n",
    "                                '//*[@id=\"main\"]/header/div[3]/div/div[2]/span/div/div/ul/li[1]/button/input').send_keys('\\n'.join(images))\n",
    "                            break\n",
    "                        except:\n",
    "                            if i==4: continue\n",
    "                            time.sleep(1)\n",
    "\n",
    "                    #Add text to Images \n",
    "                    for i in range(5):\n",
    "                        try:\n",
    "                            message_box = self.driver.find_element_by_xpath('//*[@id=\"app\"]/div/div/div[2]/div[2]/span/div/span/div/div/div[2]/div[1]/span/div/div[2]/div/div[3]/div[1]/div[2]')\n",
    "                            for part in message.split('\\n'):\n",
    "                                message_box.send_keys(part)\n",
    "                                ActionChains(self.driver).key_down(Keys.SHIFT).key_down(Keys.ENTER).key_up(Keys.SHIFT).key_up(Keys.ENTER).perform()\n",
    "                            break\n",
    "                        except:\n",
    "                            if i==4: continue\n",
    "                            time.sleep(1)\n",
    "                        \n",
    "                    #Click Send Button\n",
    "#                     for i in range(5):\n",
    "#                         try:\n",
    "#                             self.driver.find_element_by_xpath('//*[@id=\"app\"]/div/div/div[2]/div[2]/span/div/span/div/div/div[2]/span/div/div').click()\n",
    "#                             break\n",
    "#                         except:\n",
    "#                             if i==4: continue\n",
    "#                             time.sleep(0.5)\n",
    "            except:\n",
    "                time.sleep(1)\n",
    "                continue"
   ]
  },
  {
   "cell_type": "code",
   "execution_count": 7,
   "metadata": {},
   "outputs": [],
   "source": [
    "scrapper = Scrapper()"
   ]
  },
  {
   "cell_type": "code",
   "execution_count": 8,
   "metadata": {},
   "outputs": [],
   "source": [
    "scrapper.login_whatsapp()"
   ]
  },
  {
   "cell_type": "code",
   "execution_count": null,
   "metadata": {},
   "outputs": [],
   "source": [
    "scrapper.send_message()"
   ]
  },
  {
   "cell_type": "code",
   "execution_count": null,
   "metadata": {},
   "outputs": [],
   "source": []
  },
  {
   "cell_type": "code",
   "execution_count": null,
   "metadata": {},
   "outputs": [],
   "source": []
  },
  {
   "cell_type": "code",
   "execution_count": 2,
   "metadata": {},
   "outputs": [],
   "source": [
    "names = []\n",
    "numbers = []\n",
    "with open('contacts.csv', encoding='utf-8') as f:\n",
    "    reader = csv.reader(f, delimiter = ',')\n",
    "    for i, row in enumerate(reader):\n",
    "        if i==0:\n",
    "            phone_index = row.index('Phone 1 - Value')\n",
    "        if i!=0:\n",
    "            names.append(row[0])\n",
    "            numbers.append(row[phone_index])"
   ]
  },
  {
   "cell_type": "code",
   "execution_count": 3,
   "metadata": {},
   "outputs": [
    {
     "name": "stdout",
     "output_type": "stream",
     "text": [
      "Scan QR Code, And then Enter\n",
      "\n",
      "Logged In\n"
     ]
    }
   ],
   "source": [
    "# contacts = pd.read_csv('contacts.csv')\n",
    "option = webdriver.ChromeOptions()\n",
    "option.add_argument(\"--window-size=1920,1080\")\n",
    "driver = webdriver.Chrome('./chromedriver.exe',options= option)\n",
    "driver.get('https://web.whatsapp.com/')\n",
    "print(\"Scan QR Code, And then Enter\")\n",
    "input()\n",
    "print(\"Logged In\")"
   ]
  },
  {
   "cell_type": "code",
   "execution_count": 18,
   "metadata": {},
   "outputs": [],
   "source": [
    "#Click On Chart Button\n",
    "driver.find_element_by_xpath('//*[@id=\"side\"]/header/div[2]/div/span/div[2]/div').click()"
   ]
  },
  {
   "cell_type": "code",
   "execution_count": 19,
   "metadata": {},
   "outputs": [],
   "source": [
    "#Write Contact Name for search\n",
    "driver.find_element_by_xpath('//*[@id=\"app\"]/div/div/div[2]/div[1]/span/div/span/div/div[1]/div/label/div/div[2]').send_keys('yousuf bhai')"
   ]
  },
  {
   "cell_type": "code",
   "execution_count": 20,
   "metadata": {},
   "outputs": [
    {
     "data": {
      "text/plain": [
       "'Yousuf bhai'"
      ]
     },
     "execution_count": 20,
     "metadata": {},
     "output_type": "execute_result"
    }
   ],
   "source": [
    "#Click on contact name\n",
    "driver.find_element_by_class_name('_2EXPL').click()\n",
    "driver.find_element_by_xpath('//*[@id=\"main\"]/header/div[2]/div/div/span').get_attribute('title')"
   ]
  },
  {
   "cell_type": "code",
   "execution_count": null,
   "metadata": {},
   "outputs": [],
   "source": []
  },
  {
   "cell_type": "code",
   "execution_count": 166,
   "metadata": {},
   "outputs": [],
   "source": [
    "message_box = driver.find_element_by_xpath('//*[@id=\"main\"]/footer/div[1]/div[2]/div/div[2]')"
   ]
  },
  {
   "cell_type": "code",
   "execution_count": null,
   "metadata": {},
   "outputs": [],
   "source": []
  },
  {
   "cell_type": "code",
   "execution_count": 167,
   "metadata": {},
   "outputs": [],
   "source": [
    "with open('message.txt', encoding='utf-8') as f:\n",
    "    message = f.read()\n",
    "for part in message.split('\\n'):\n",
    "    message_box.send_keys(part)\n",
    "    ActionChains(driver).key_down(Keys.SHIFT).key_down(Keys.ENTER).key_up(Keys.SHIFT).key_up(Keys.ENTER).perform()\n"
   ]
  },
  {
   "cell_type": "code",
   "execution_count": 73,
   "metadata": {},
   "outputs": [
    {
     "data": {
      "text/plain": [
       "'This Message is sent By Automated Softwareیہ پروگرام ایک خود کار سافٹویئر کے ذریعے بحیجا گیا ہے، براہ مہربانی نظر انداز کیجیے\\n'"
      ]
     },
     "execution_count": 73,
     "metadata": {},
     "output_type": "execute_result"
    }
   ],
   "source": []
  },
  {
   "cell_type": "code",
   "execution_count": null,
   "metadata": {},
   "outputs": [],
   "source": []
  },
  {
   "cell_type": "code",
   "execution_count": null,
   "metadata": {},
   "outputs": [],
   "source": []
  },
  {
   "cell_type": "code",
   "execution_count": 183,
   "metadata": {},
   "outputs": [],
   "source": [
    "with open('message.txt', encoding='utf-8') as f:\n",
    "    message = f.read()\n",
    "    images =[os.path.abspath(path) for path in glob.glob('./images/*')]\n",
    "    contacts = pd.read_csv('contacts.csv')\n",
    "    "
   ]
  },
  {
   "cell_type": "code",
   "execution_count": 186,
   "metadata": {},
   "outputs": [
    {
     "data": {
      "text/plain": [
       "'This message is written by Automated Software\\nPrice: Rs 400\\nDiscount: 50%\\nFinal Price 200 Pkr\\nپڑحیے ہماری کتابیں\\nقیمت 300\\nصفھات 500\\n'"
      ]
     },
     "execution_count": 186,
     "metadata": {},
     "output_type": "execute_result"
    }
   ],
   "source": [
    "message"
   ]
  },
  {
   "cell_type": "code",
   "execution_count": 175,
   "metadata": {},
   "outputs": [
    {
     "name": "stdout",
     "output_type": "stream",
     "text": [
      "Scan QR Code, And then Enter\n",
      "\n",
      "Logged In\n"
     ]
    }
   ],
   "source": [
    "contacts = pd.read_csv('contacts.csv')\n",
    "option = webdriver.ChromeOptions()\n",
    "option.add_argument(\"--window-size=1920,1080\")\n",
    "driver = webdriver.Chrome('./chromedriver',options= option)\n",
    "driver.get('https://web.whatsapp.com/')\n",
    "print(\"Scan QR Code, And then Enter\")\n",
    "input()\n",
    "print(\"Logged In\")"
   ]
  },
  {
   "cell_type": "code",
   "execution_count": 176,
   "metadata": {},
   "outputs": [],
   "source": [
    "#Click On Chart Button\n",
    "driver.find_element_by_xpath('//*[@id=\"side\"]/header/div[2]/div/span/div[2]/div').click()"
   ]
  },
  {
   "cell_type": "code",
   "execution_count": 177,
   "metadata": {},
   "outputs": [],
   "source": [
    "#Write Contact Name for search\n",
    "driver.find_element_by_xpath('//*[@id=\"app\"]/div/div/div[2]/div[1]/span/div/span/div/div[1]/div/label/div/div[2]').send_keys('amma')"
   ]
  },
  {
   "cell_type": "code",
   "execution_count": 178,
   "metadata": {},
   "outputs": [],
   "source": [
    "#Click on contact name\n",
    "driver.find_element_by_class_name('_2EXPL').click()"
   ]
  },
  {
   "cell_type": "code",
   "execution_count": 179,
   "metadata": {},
   "outputs": [],
   "source": [
    "#Click on attach file button\n",
    "driver.find_element_by_xpath('//*[@id=\"main\"]/header/div[3]/div/div[2]').click()"
   ]
  },
  {
   "cell_type": "code",
   "execution_count": 185,
   "metadata": {},
   "outputs": [],
   "source": [
    "#input file path \n",
    "driver.find_element_by_xpath(\n",
    "    '//*[@id=\"main\"]/header/div[3]/div/div[2]/span/div/div/ul/li[1]/button/input'\n",
    ").send_keys(\n",
    "    '\\n'.join(images)\n",
    ")"
   ]
  },
  {
   "cell_type": "code",
   "execution_count": 187,
   "metadata": {},
   "outputs": [],
   "source": [
    "#Add text to Images \n",
    "message_box = driver.find_element_by_xpath('//*[@id=\"app\"]/div/div/div[2]/div[2]/span/div/span/div/div/div[2]/div[1]/span/div/div[2]/div/div[3]/div[1]/div[2]')\n",
    "for part in message.split('\\n'):\n",
    "    message_box.send_keys(part)\n",
    "    ActionChains(driver).key_down(Keys.SHIFT).key_down(Keys.ENTER).key_up(Keys.SHIFT).key_up(Keys.ENTER).perform()\n"
   ]
  },
  {
   "cell_type": "code",
   "execution_count": 188,
   "metadata": {},
   "outputs": [],
   "source": [
    "#Click Send Button\n",
    "driver.find_element_by_xpath('//*[@id=\"app\"]/div/div/div[2]/div[2]/span/div/span/div/div/div[2]/span/div/div').click()"
   ]
  },
  {
   "cell_type": "code",
   "execution_count": 4,
   "metadata": {},
   "outputs": [],
   "source": []
  },
  {
   "cell_type": "code",
   "execution_count": null,
   "metadata": {},
   "outputs": [
    {
     "name": "stdout",
     "output_type": "stream",
     "text": [
      "writing message 1 time\n",
      "writing message 2 time\n",
      "writing message 1 time\n",
      "writing message 2 time\n",
      "writing message 1 time\n",
      "writing message 2 time\n",
      "writing message 1 time\n",
      "writing message 2 time\n",
      "writing message 1 time\n",
      "writing message 2 time\n"
     ]
    }
   ],
   "source": [
    "class Application(tk.Frame):\n",
    "    def __init__(self, master=None):\n",
    "        super().__init__(master)\n",
    "        self.scrapper = Scrapper()\n",
    "        self.master = master\n",
    "        self.pack()\n",
    "        self.create_widgets()\n",
    "    def create_widgets(self):\n",
    "        # Add Login Button\n",
    "        self.login = tk.Button(self, font =('Times', 15))\n",
    "        self.login[\"text\"] = \"Click To Login Whatsapp\"\n",
    "        self.login[\"command\"] = self.scrapper.login_whatsapp\n",
    "        self.login.grid(row = 0, padx = 10, pady = 10)\n",
    "        \n",
    "        self.message_label = tk.Label(self, font =('Times', 12))\n",
    "        self.message_label['text'] = \"Your Text: \"\n",
    "        self.message_label.grid(row=1, padx =10, column = 0, pady=10)\n",
    "\n",
    "        with open('message.txt', encoding = 'utf-8') as f:\n",
    "            text = f.read()\n",
    "        self.message = tk.Text(self,font =('Helvetica', 12), height = 5, width=30)\n",
    "        self.message.grid(row=1, column = 1)  \n",
    "        self.message.insert(tk.END, text)\n",
    "        self.message.config(state='disabled')\n",
    "        \n",
    "        self.image_label = tk.Label(self, font =('Times', 12))\n",
    "        self.image_label['text'] = \"Your Image: \"\n",
    "        self.image_label.grid(row=2, padx =10, column = 0, pady=10)\n",
    "        \n",
    "        img_paths = glob.glob('./images/*.jpg')\n",
    "        i=0\n",
    "        for i,path in enumerate(img_paths):\n",
    "            self.image_label = tk.Label(self, font =('Times', 10))\n",
    "            self.image_label['text'] = path\n",
    "            self.image_label.grid(row=2+i, padx =0, column = 1, pady=0)\n",
    "        \n",
    "        \n",
    "        self.send_message = tk.Button(self, font =('Times', 15))\n",
    "        self.send_message[\"text\"] = \"Click To Send Message\"\n",
    "        self.send_message[\"command\"] = self.scrapper.send_message\n",
    "        self.send_message.grid(row = i+2+1, padx = 10, pady = 10)\n",
    "    \n",
    "root = tk.Tk()\n",
    "root.title('Whatsapp Bulk Messaging')\n",
    "root.minsize(500, 250) \n",
    "app = Application(master=root)\n",
    "app.mainloop()"
   ]
  },
  {
   "cell_type": "code",
   "execution_count": null,
   "metadata": {},
   "outputs": [],
   "source": []
  }
 ],
 "metadata": {
  "kernelspec": {
   "display_name": "Python 3",
   "language": "python",
   "name": "python3"
  },
  "language_info": {
   "codemirror_mode": {
    "name": "ipython",
    "version": 3
   },
   "file_extension": ".py",
   "mimetype": "text/x-python",
   "name": "python",
   "nbconvert_exporter": "python",
   "pygments_lexer": "ipython3",
   "version": "3.8.2"
  }
 },
 "nbformat": 4,
 "nbformat_minor": 2
}
